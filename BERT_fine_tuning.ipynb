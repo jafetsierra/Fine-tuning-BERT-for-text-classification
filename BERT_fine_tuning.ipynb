{
  "cells": [
    {
      "cell_type": "markdown",
      "source": [
        "# Fine tuning BERT for Text Classification of coronavirus tweets text classification\n",
        "\n",
        "*  Author:       Jafet Israel Sierra Lagos\n",
        "*  Last_update:  01-06-2022"
      ],
      "metadata": {
        "id": "HaWom5AOgvN_"
      }
    },
    {
      "cell_type": "markdown",
      "source": [
        "### libraries"
      ],
      "metadata": {
        "id": "1S-juT0dpumx"
      }
    },
    {
      "cell_type": "code",
      "execution_count": null,
      "metadata": {
        "id": "X-imlwL8fUpt"
      },
      "outputs": [],
      "source": [
        "! pip install -q -U \"tensorflow-text==2.8.*\"\n",
        "! pip install tensorflow-addons\n",
        "! pip install lightgbm\n",
        "! pip install xgboost\n",
        "#Basic\n",
        "import pandas as pd\n",
        "import numpy as np\n",
        "import matplotlib.pyplot as plt\n",
        "import seaborn as sns\n",
        "import regex as re\n",
        "from collections import Counter\n",
        "#sklearn\n",
        "import sklearn \n",
        "from sklearn.feature_extraction.text import TfidfVectorizer\n",
        "from imblearn.over_sampling import SMOTE\n",
        "from sklearn.model_selection  import StratifiedKFold, cross_val_score, train_test_split\n",
        "from sklearn.ensemble import RandomForestClassifier, ExtraTreesClassifier\n",
        "from sklearn.preprocessing import StandardScaler\n",
        "from sklearn.svm import SVC\n",
        "#NLTK\n",
        "from nltk.corpus import stopwords\n",
        "import nltk\n",
        "nltk.download('stopwords')\n",
        "from nltk.stem import WordNetLemmatizer\n",
        "nltk.download('wordnet')\n",
        "#Boosting\n",
        "import xgboost as xgb\n",
        "import lightgbm as lgb\n",
        "#SMOTE\n",
        "from imblearn.over_sampling import SMOTE\n",
        "#Tensorflow\n",
        "import tensorflow as tf\n",
        "import tensorflow_hub as hub\n",
        "import tensorflow_text as text\n",
        "from tensorflow.keras.layers import Input, Dropout, Dense, Flatten, BatchNormalization\n",
        "import tensorflow_addons as tfa\n",
        "from tensorflow.keras.callbacks import ModelCheckpoint"
      ]
    },
    {
      "cell_type": "code",
      "execution_count": null,
      "metadata": {
        "id": "ilUUJlAsgUVD"
      },
      "outputs": [],
      "source": [
        "df = pd.read_csv('Corona_NLP_train.csv', encoding = \"ISO-8859-1\")"
      ]
    },
    {
      "cell_type": "code",
      "execution_count": null,
      "metadata": {
        "colab": {
          "base_uri": "https://localhost:8080/"
        },
        "id": "lsW1HlcWUbvL",
        "outputId": "364b444b-838c-4595-ddd4-0651fbb5305e"
      },
      "outputs": [
        {
          "output_type": "execute_result",
          "data": {
            "text/plain": [
              "Positive              11422\n",
              "Negative               9917\n",
              "Neutral                7713\n",
              "Extremely Positive     6624\n",
              "Extremely Negative     5481\n",
              "Name: Sentiment, dtype: int64"
            ]
          },
          "metadata": {},
          "execution_count": 3
        }
      ],
      "source": [
        "df['Sentiment'].value_counts()"
      ]
    },
    {
      "cell_type": "code",
      "execution_count": null,
      "metadata": {
        "colab": {
          "base_uri": "https://localhost:8080/"
        },
        "id": "P9_wq-RugZE6",
        "outputId": "f08a5ffd-1130-4392-e575-399bec87c067"
      },
      "outputs": [
        {
          "output_type": "execute_result",
          "data": {
            "text/plain": [
              "Index(['UserName', 'ScreenName', 'Location', 'TweetAt', 'OriginalTweet',\n",
              "       'Sentiment'],\n",
              "      dtype='object')"
            ]
          },
          "metadata": {},
          "execution_count": 4
        }
      ],
      "source": [
        "df.columns"
      ]
    },
    {
      "cell_type": "markdown",
      "metadata": {
        "id": "r_e59zZH-5Mf"
      },
      "source": [
        "### text preprocessing"
      ]
    },
    {
      "cell_type": "code",
      "execution_count": null,
      "metadata": {
        "id": "iJtJaCL8-41R"
      },
      "outputs": [],
      "source": [
        "def clean_text(text):\n",
        "  mention_pattern = r'@\\S+' \n",
        "  hasht_pattern = r'#\\S+' \n",
        "  url_pattern = r'http.\\S+' \n",
        "  punctuation = r'[^\\w\\s]'\n",
        "  return re.sub(f'({mention_pattern})|({hasht_pattern})|({url_pattern})|({punctuation})','',text)\n",
        "\n",
        "def delete_stop_words(text):\n",
        "  rta = [word for word in text.split(' ') if word not in stopwords.words('english')]\n",
        "  return ' '.join(rta)"
      ]
    },
    {
      "cell_type": "code",
      "execution_count": null,
      "metadata": {
        "id": "baP0ITJhBUxL"
      },
      "outputs": [],
      "source": [
        "df['text'] = df['OriginalTweet'].apply(clean_text).apply(delete_stop_words).apply(lambda x: x.lower())"
      ]
    },
    {
      "cell_type": "code",
      "execution_count": null,
      "metadata": {
        "colab": {
          "base_uri": "https://localhost:8080/",
          "height": 206
        },
        "id": "-YLFfeBqDACO",
        "outputId": "350cdde6-1777-40f4-a19c-16bcde25caee"
      },
      "outputs": [
        {
          "output_type": "execute_result",
          "data": {
            "text/plain": [
              "                                                text  \\\n",
              "0                                                      \n",
              "1  advice talk neighbours family exchange phone n...   \n",
              "2  coronavirus australia woolworths give elderly ...   \n",
              "3  my food stock one empty\\r\\r\\n\\r\\r\\nplease dont...   \n",
              "4  me ready go supermarket  outbreak\\r\\r\\n\\r\\r\\nn...   \n",
              "\n",
              "                                       OriginalTweet  \n",
              "0  @MeNyrbie @Phil_Gahan @Chrisitv https://t.co/i...  \n",
              "1  advice Talk to your neighbours family to excha...  \n",
              "2  Coronavirus Australia: Woolworths to give elde...  \n",
              "3  My food stock is not the only one which is emp...  \n",
              "4  Me, ready to go at supermarket during the #COV...  "
            ],
            "text/html": [
              "\n",
              "  <div id=\"df-2ff31b93-fe10-493e-8815-345d52c85fe8\">\n",
              "    <div class=\"colab-df-container\">\n",
              "      <div>\n",
              "<style scoped>\n",
              "    .dataframe tbody tr th:only-of-type {\n",
              "        vertical-align: middle;\n",
              "    }\n",
              "\n",
              "    .dataframe tbody tr th {\n",
              "        vertical-align: top;\n",
              "    }\n",
              "\n",
              "    .dataframe thead th {\n",
              "        text-align: right;\n",
              "    }\n",
              "</style>\n",
              "<table border=\"1\" class=\"dataframe\">\n",
              "  <thead>\n",
              "    <tr style=\"text-align: right;\">\n",
              "      <th></th>\n",
              "      <th>text</th>\n",
              "      <th>OriginalTweet</th>\n",
              "    </tr>\n",
              "  </thead>\n",
              "  <tbody>\n",
              "    <tr>\n",
              "      <th>0</th>\n",
              "      <td></td>\n",
              "      <td>@MeNyrbie @Phil_Gahan @Chrisitv https://t.co/i...</td>\n",
              "    </tr>\n",
              "    <tr>\n",
              "      <th>1</th>\n",
              "      <td>advice talk neighbours family exchange phone n...</td>\n",
              "      <td>advice Talk to your neighbours family to excha...</td>\n",
              "    </tr>\n",
              "    <tr>\n",
              "      <th>2</th>\n",
              "      <td>coronavirus australia woolworths give elderly ...</td>\n",
              "      <td>Coronavirus Australia: Woolworths to give elde...</td>\n",
              "    </tr>\n",
              "    <tr>\n",
              "      <th>3</th>\n",
              "      <td>my food stock one empty\\r\\r\\n\\r\\r\\nplease dont...</td>\n",
              "      <td>My food stock is not the only one which is emp...</td>\n",
              "    </tr>\n",
              "    <tr>\n",
              "      <th>4</th>\n",
              "      <td>me ready go supermarket  outbreak\\r\\r\\n\\r\\r\\nn...</td>\n",
              "      <td>Me, ready to go at supermarket during the #COV...</td>\n",
              "    </tr>\n",
              "  </tbody>\n",
              "</table>\n",
              "</div>\n",
              "      <button class=\"colab-df-convert\" onclick=\"convertToInteractive('df-2ff31b93-fe10-493e-8815-345d52c85fe8')\"\n",
              "              title=\"Convert this dataframe to an interactive table.\"\n",
              "              style=\"display:none;\">\n",
              "        \n",
              "  <svg xmlns=\"http://www.w3.org/2000/svg\" height=\"24px\"viewBox=\"0 0 24 24\"\n",
              "       width=\"24px\">\n",
              "    <path d=\"M0 0h24v24H0V0z\" fill=\"none\"/>\n",
              "    <path d=\"M18.56 5.44l.94 2.06.94-2.06 2.06-.94-2.06-.94-.94-2.06-.94 2.06-2.06.94zm-11 1L8.5 8.5l.94-2.06 2.06-.94-2.06-.94L8.5 2.5l-.94 2.06-2.06.94zm10 10l.94 2.06.94-2.06 2.06-.94-2.06-.94-.94-2.06-.94 2.06-2.06.94z\"/><path d=\"M17.41 7.96l-1.37-1.37c-.4-.4-.92-.59-1.43-.59-.52 0-1.04.2-1.43.59L10.3 9.45l-7.72 7.72c-.78.78-.78 2.05 0 2.83L4 21.41c.39.39.9.59 1.41.59.51 0 1.02-.2 1.41-.59l7.78-7.78 2.81-2.81c.8-.78.8-2.07 0-2.86zM5.41 20L4 18.59l7.72-7.72 1.47 1.35L5.41 20z\"/>\n",
              "  </svg>\n",
              "      </button>\n",
              "      \n",
              "  <style>\n",
              "    .colab-df-container {\n",
              "      display:flex;\n",
              "      flex-wrap:wrap;\n",
              "      gap: 12px;\n",
              "    }\n",
              "\n",
              "    .colab-df-convert {\n",
              "      background-color: #E8F0FE;\n",
              "      border: none;\n",
              "      border-radius: 50%;\n",
              "      cursor: pointer;\n",
              "      display: none;\n",
              "      fill: #1967D2;\n",
              "      height: 32px;\n",
              "      padding: 0 0 0 0;\n",
              "      width: 32px;\n",
              "    }\n",
              "\n",
              "    .colab-df-convert:hover {\n",
              "      background-color: #E2EBFA;\n",
              "      box-shadow: 0px 1px 2px rgba(60, 64, 67, 0.3), 0px 1px 3px 1px rgba(60, 64, 67, 0.15);\n",
              "      fill: #174EA6;\n",
              "    }\n",
              "\n",
              "    [theme=dark] .colab-df-convert {\n",
              "      background-color: #3B4455;\n",
              "      fill: #D2E3FC;\n",
              "    }\n",
              "\n",
              "    [theme=dark] .colab-df-convert:hover {\n",
              "      background-color: #434B5C;\n",
              "      box-shadow: 0px 1px 3px 1px rgba(0, 0, 0, 0.15);\n",
              "      filter: drop-shadow(0px 1px 2px rgba(0, 0, 0, 0.3));\n",
              "      fill: #FFFFFF;\n",
              "    }\n",
              "  </style>\n",
              "\n",
              "      <script>\n",
              "        const buttonEl =\n",
              "          document.querySelector('#df-2ff31b93-fe10-493e-8815-345d52c85fe8 button.colab-df-convert');\n",
              "        buttonEl.style.display =\n",
              "          google.colab.kernel.accessAllowed ? 'block' : 'none';\n",
              "\n",
              "        async function convertToInteractive(key) {\n",
              "          const element = document.querySelector('#df-2ff31b93-fe10-493e-8815-345d52c85fe8');\n",
              "          const dataTable =\n",
              "            await google.colab.kernel.invokeFunction('convertToInteractive',\n",
              "                                                     [key], {});\n",
              "          if (!dataTable) return;\n",
              "\n",
              "          const docLinkHtml = 'Like what you see? Visit the ' +\n",
              "            '<a target=\"_blank\" href=https://colab.research.google.com/notebooks/data_table.ipynb>data table notebook</a>'\n",
              "            + ' to learn more about interactive tables.';\n",
              "          element.innerHTML = '';\n",
              "          dataTable['output_type'] = 'display_data';\n",
              "          await google.colab.output.renderOutput(dataTable, element);\n",
              "          const docLink = document.createElement('div');\n",
              "          docLink.innerHTML = docLinkHtml;\n",
              "          element.appendChild(docLink);\n",
              "        }\n",
              "      </script>\n",
              "    </div>\n",
              "  </div>\n",
              "  "
            ]
          },
          "metadata": {},
          "execution_count": 7
        }
      ],
      "source": [
        "df[['text','OriginalTweet']].head()"
      ]
    },
    {
      "cell_type": "code",
      "execution_count": null,
      "metadata": {
        "id": "zPcVicJwghSB"
      },
      "outputs": [],
      "source": [
        "X = df['text']\n",
        "y_base_line = df['Sentiment']\n",
        "df = pd.get_dummies(df,columns=['Sentiment']) \n",
        "y = df[['Sentiment_Extremely Negative', 'Sentiment_Extremely Positive',\n",
        "       'Sentiment_Negative', 'Sentiment_Neutral', 'Sentiment_Positive']]"
      ]
    },
    {
      "cell_type": "markdown",
      "source": [
        "## Baseline model"
      ],
      "metadata": {
        "id": "srSvr8lhrG_j"
      }
    },
    {
      "cell_type": "code",
      "source": [
        "vec = TfidfVectorizer(min_df=15,max_df=30)\n",
        "X_ = vec.fit_transform(df['text'])\n",
        "X_.shape"
      ],
      "metadata": {
        "colab": {
          "base_uri": "https://localhost:8080/"
        },
        "id": "lnzt9aVkrGo4",
        "outputId": "cb175f48-3dc1-4694-a2a8-7f27e1ce99a7"
      },
      "execution_count": null,
      "outputs": [
        {
          "output_type": "execute_result",
          "data": {
            "text/plain": [
              "(41157, 1860)"
            ]
          },
          "metadata": {},
          "execution_count": 11
        }
      ]
    },
    {
      "cell_type": "code",
      "source": [
        "smote = SMOTE ()\n",
        "#Aplicamos oversampling\n",
        "X_over, y_over = smote.fit_resample(X_,y_base_line)\n",
        "number_per_class = dict(Counter(y_over))\n",
        "number_per_class"
      ],
      "metadata": {
        "colab": {
          "base_uri": "https://localhost:8080/"
        },
        "id": "_vXjIrPrrQqR",
        "outputId": "1915b7af-f031-4099-eaf6-30aac46aa2c0"
      },
      "execution_count": null,
      "outputs": [
        {
          "output_type": "execute_result",
          "data": {
            "text/plain": [
              "{'Extremely Negative': 11422,\n",
              " 'Extremely Positive': 11422,\n",
              " 'Negative': 11422,\n",
              " 'Neutral': 11422,\n",
              " 'Positive': 11422}"
            ]
          },
          "metadata": {},
          "execution_count": 12
        }
      ]
    },
    {
      "cell_type": "code",
      "source": [
        "kfold_over = StratifiedKFold(10,shuffle=True)\n",
        "clfs_over = [\n",
        "        RandomForestClassifier(),\n",
        "        SVC(),\n",
        "        lgb.LGBMClassifier()\n",
        "]\n",
        "cv_results_over = []\n",
        "\n",
        "for classifier in clfs_over:\n",
        "  cv_results_over.append(cross_val_score(classifier,X_over,y_over,scoring='accuracy',cv=kfold_over))\n",
        "\n",
        "means_acc_over = []\n",
        "stds_acc_over = []\n",
        "classifiers_acc_over = ['rf','SVM','lightGBM']#,'ExtraTreesClf']\n",
        "for result in cv_results_over:\n",
        "  means_acc_over.append(result.mean())\n",
        "  stds_acc_over.append(result.std())\n",
        "\n",
        "rta_over = {\n",
        "    'cv_accuracy': means_acc_over,\n",
        "    'cv_stds': stds_acc_over,\n",
        "    'Algorithm':classifiers_acc_over\n",
        "}\n",
        "rta_df_over = pd.DataFrame.from_dict(rta_over)\n",
        "rta_df_over"
      ],
      "metadata": {
        "id": "j9bxljMArmQy",
        "colab": {
          "base_uri": "https://localhost:8080/",
          "height": 143
        },
        "outputId": "01b150ff-8c8e-4c8e-f6e9-977a55feec4e"
      },
      "execution_count": 13,
      "outputs": [
        {
          "output_type": "execute_result",
          "data": {
            "text/plain": [
              "   cv_accuracy   cv_stds Algorithm\n",
              "0     0.380249  0.006976        rf\n",
              "1     0.383523  0.006702       SVM\n",
              "2     0.321800  0.003960  lightGBM"
            ],
            "text/html": [
              "\n",
              "  <div id=\"df-c9f298e2-776f-4e7d-b7d4-b61cf786f17f\">\n",
              "    <div class=\"colab-df-container\">\n",
              "      <div>\n",
              "<style scoped>\n",
              "    .dataframe tbody tr th:only-of-type {\n",
              "        vertical-align: middle;\n",
              "    }\n",
              "\n",
              "    .dataframe tbody tr th {\n",
              "        vertical-align: top;\n",
              "    }\n",
              "\n",
              "    .dataframe thead th {\n",
              "        text-align: right;\n",
              "    }\n",
              "</style>\n",
              "<table border=\"1\" class=\"dataframe\">\n",
              "  <thead>\n",
              "    <tr style=\"text-align: right;\">\n",
              "      <th></th>\n",
              "      <th>cv_accuracy</th>\n",
              "      <th>cv_stds</th>\n",
              "      <th>Algorithm</th>\n",
              "    </tr>\n",
              "  </thead>\n",
              "  <tbody>\n",
              "    <tr>\n",
              "      <th>0</th>\n",
              "      <td>0.380249</td>\n",
              "      <td>0.006976</td>\n",
              "      <td>rf</td>\n",
              "    </tr>\n",
              "    <tr>\n",
              "      <th>1</th>\n",
              "      <td>0.383523</td>\n",
              "      <td>0.006702</td>\n",
              "      <td>SVM</td>\n",
              "    </tr>\n",
              "    <tr>\n",
              "      <th>2</th>\n",
              "      <td>0.321800</td>\n",
              "      <td>0.003960</td>\n",
              "      <td>lightGBM</td>\n",
              "    </tr>\n",
              "  </tbody>\n",
              "</table>\n",
              "</div>\n",
              "      <button class=\"colab-df-convert\" onclick=\"convertToInteractive('df-c9f298e2-776f-4e7d-b7d4-b61cf786f17f')\"\n",
              "              title=\"Convert this dataframe to an interactive table.\"\n",
              "              style=\"display:none;\">\n",
              "        \n",
              "  <svg xmlns=\"http://www.w3.org/2000/svg\" height=\"24px\"viewBox=\"0 0 24 24\"\n",
              "       width=\"24px\">\n",
              "    <path d=\"M0 0h24v24H0V0z\" fill=\"none\"/>\n",
              "    <path d=\"M18.56 5.44l.94 2.06.94-2.06 2.06-.94-2.06-.94-.94-2.06-.94 2.06-2.06.94zm-11 1L8.5 8.5l.94-2.06 2.06-.94-2.06-.94L8.5 2.5l-.94 2.06-2.06.94zm10 10l.94 2.06.94-2.06 2.06-.94-2.06-.94-.94-2.06-.94 2.06-2.06.94z\"/><path d=\"M17.41 7.96l-1.37-1.37c-.4-.4-.92-.59-1.43-.59-.52 0-1.04.2-1.43.59L10.3 9.45l-7.72 7.72c-.78.78-.78 2.05 0 2.83L4 21.41c.39.39.9.59 1.41.59.51 0 1.02-.2 1.41-.59l7.78-7.78 2.81-2.81c.8-.78.8-2.07 0-2.86zM5.41 20L4 18.59l7.72-7.72 1.47 1.35L5.41 20z\"/>\n",
              "  </svg>\n",
              "      </button>\n",
              "      \n",
              "  <style>\n",
              "    .colab-df-container {\n",
              "      display:flex;\n",
              "      flex-wrap:wrap;\n",
              "      gap: 12px;\n",
              "    }\n",
              "\n",
              "    .colab-df-convert {\n",
              "      background-color: #E8F0FE;\n",
              "      border: none;\n",
              "      border-radius: 50%;\n",
              "      cursor: pointer;\n",
              "      display: none;\n",
              "      fill: #1967D2;\n",
              "      height: 32px;\n",
              "      padding: 0 0 0 0;\n",
              "      width: 32px;\n",
              "    }\n",
              "\n",
              "    .colab-df-convert:hover {\n",
              "      background-color: #E2EBFA;\n",
              "      box-shadow: 0px 1px 2px rgba(60, 64, 67, 0.3), 0px 1px 3px 1px rgba(60, 64, 67, 0.15);\n",
              "      fill: #174EA6;\n",
              "    }\n",
              "\n",
              "    [theme=dark] .colab-df-convert {\n",
              "      background-color: #3B4455;\n",
              "      fill: #D2E3FC;\n",
              "    }\n",
              "\n",
              "    [theme=dark] .colab-df-convert:hover {\n",
              "      background-color: #434B5C;\n",
              "      box-shadow: 0px 1px 3px 1px rgba(0, 0, 0, 0.15);\n",
              "      filter: drop-shadow(0px 1px 2px rgba(0, 0, 0, 0.3));\n",
              "      fill: #FFFFFF;\n",
              "    }\n",
              "  </style>\n",
              "\n",
              "      <script>\n",
              "        const buttonEl =\n",
              "          document.querySelector('#df-c9f298e2-776f-4e7d-b7d4-b61cf786f17f button.colab-df-convert');\n",
              "        buttonEl.style.display =\n",
              "          google.colab.kernel.accessAllowed ? 'block' : 'none';\n",
              "\n",
              "        async function convertToInteractive(key) {\n",
              "          const element = document.querySelector('#df-c9f298e2-776f-4e7d-b7d4-b61cf786f17f');\n",
              "          const dataTable =\n",
              "            await google.colab.kernel.invokeFunction('convertToInteractive',\n",
              "                                                     [key], {});\n",
              "          if (!dataTable) return;\n",
              "\n",
              "          const docLinkHtml = 'Like what you see? Visit the ' +\n",
              "            '<a target=\"_blank\" href=https://colab.research.google.com/notebooks/data_table.ipynb>data table notebook</a>'\n",
              "            + ' to learn more about interactive tables.';\n",
              "          element.innerHTML = '';\n",
              "          dataTable['output_type'] = 'display_data';\n",
              "          await google.colab.output.renderOutput(dataTable, element);\n",
              "          const docLink = document.createElement('div');\n",
              "          docLink.innerHTML = docLinkHtml;\n",
              "          element.appendChild(docLink);\n",
              "        }\n",
              "      </script>\n",
              "    </div>\n",
              "  </div>\n",
              "  "
            ]
          },
          "metadata": {},
          "execution_count": 13
        }
      ]
    },
    {
      "cell_type": "code",
      "source": [
        "ax = sns.barplot('cv_accuracy','Algorithm',palette=\"Blues_d\",data=rta_df_over,**{'xerr':stds_acc_over})\n",
        "ax.grid(axis='x')\n",
        "plt.title('with over_sampling',fontdict={'fontsize':20})\n",
        "plt.xlim(0,0.8)\n",
        "plt.savefig('cv-resumen-over.png')\n",
        "plt.show()"
      ],
      "metadata": {
        "id": "szwReWjcr9kR",
        "colab": {
          "base_uri": "https://localhost:8080/",
          "height": 355
        },
        "outputId": "61c6e32d-c08d-438f-b9e4-d2225e8c496b"
      },
      "execution_count": 14,
      "outputs": [
        {
          "output_type": "stream",
          "name": "stderr",
          "text": [
            "/usr/local/lib/python3.7/dist-packages/seaborn/_decorators.py:43: FutureWarning: Pass the following variables as keyword args: x, y. From version 0.12, the only valid positional argument will be `data`, and passing other arguments without an explicit keyword will result in an error or misinterpretation.\n",
            "  FutureWarning\n"
          ]
        },
        {
          "output_type": "display_data",
          "data": {
            "text/plain": [
              "<Figure size 432x288 with 1 Axes>"
            ],
            "image/png": "[encoded data removed]"
          },
          "metadata": {
            "needs_background": "light"
          }
        }
      ]
    },
    {
      "cell_type": "markdown",
      "metadata": {
        "id": "kUi727sXZeoC"
      },
      "source": [
        "## first model"
      ]
    },
    {
      "cell_type": "code",
      "execution_count": 15,
      "metadata": {
        "id": "JdPXxBqzg5pK"
      },
      "outputs": [],
      "source": [
        "bert_preprocess = hub.KerasLayer('https://tfhub.dev/tensorflow/bert_en_uncased_preprocess/3')\n",
        "bert_encoder    = hub.KerasLayer('https://tfhub.dev/tensorflow/bert_en_uncased_L-12_H-768_A-12/4',trainable=True)"
      ]
    },
    {
      "cell_type": "code",
      "execution_count": 16,
      "metadata": {
        "id": "2v9LyvOXhVWR"
      },
      "outputs": [],
      "source": [
        "#Model\n",
        "#bert layers\n",
        "input_l        = Input(shape=(),dtype=tf.string,name='text_input')\n",
        "preprocessed_l = bert_preprocess(input_l)\n",
        "embedding_l    = bert_encoder(preprocessed_l)\n",
        "#NN layers\n",
        "drop_l1        = Dropout(0.3)(embedding_l['pooled_output'])\n",
        "batch_l1       = BatchNormalization()(drop_l1)\n",
        "dense_l1       = Dense(256, activation='relu', kernel_regularizer='l2' ,kernel_initializer='he_normal', bias_initializer='ones')(batch_l1)\n",
        "drop_l2        = Dropout(0.3)(dense_l1)\n",
        "batch_l2       = BatchNormalization()(drop_l2)\n",
        "dense_l_out    = Dense(5,activation='softmax',name='output')(batch_l2)\n",
        "\n",
        "model = tf.keras.Model(inputs=[input_l],outputs=[dense_l_out])"
      ]
    },
    {
      "cell_type": "code",
      "execution_count": 17,
      "metadata": {
        "colab": {
          "base_uri": "https://localhost:8080/"
        },
        "id": "XKDpHmJ_7rmM",
        "outputId": "cb9b6852-aa63-478f-e9f9-dd8072cc1d85"
      },
      "outputs": [
        {
          "output_type": "stream",
          "name": "stdout",
          "text": [
            "Model: \"model\"\n",
            "__________________________________________________________________________________________________\n",
            " Layer (type)                   Output Shape         Param #     Connected to                     \n",
            "==================================================================================================\n",
            " text_input (InputLayer)        [(None,)]            0           []                               \n",
            "                                                                                                  \n",
            " keras_layer (KerasLayer)       {'input_type_ids':   0           ['text_input[0][0]']             \n",
            "                                (None, 128),                                                      \n",
            "                                 'input_mask': (Non                                               \n",
            "                                e, 128),                                                          \n",
            "                                 'input_word_ids':                                                \n",
            "                                (None, 128)}                                                      \n",
            "                                                                                                  \n",
            " keras_layer_1 (KerasLayer)     {'encoder_outputs':  109482241   ['keras_layer[0][0]',            \n",
            "                                 [(None, 128, 768),               'keras_layer[0][1]',            \n",
            "                                 (None, 128, 768),                'keras_layer[0][2]']            \n",
            "                                 (None, 128, 768),                                                \n",
            "                                 (None, 128, 768),                                                \n",
            "                                 (None, 128, 768),                                                \n",
            "                                 (None, 128, 768),                                                \n",
            "                                 (None, 128, 768),                                                \n",
            "                                 (None, 128, 768),                                                \n",
            "                                 (None, 128, 768),                                                \n",
            "                                 (None, 128, 768),                                                \n",
            "                                 (None, 128, 768),                                                \n",
            "                                 (None, 128, 768)],                                               \n",
            "                                 'pooled_output': (                                               \n",
            "                                None, 768),                                                       \n",
            "                                 'sequence_output':                                               \n",
            "                                 (None, 128, 768),                                                \n",
            "                                 'default': (None,                                                \n",
            "                                768)}                                                             \n",
            "                                                                                                  \n",
            " dropout (Dropout)              (None, 768)          0           ['keras_layer_1[0][13]']         \n",
            "                                                                                                  \n",
            " batch_normalization (BatchNorm  (None, 768)         3072        ['dropout[0][0]']                \n",
            " alization)                                                                                       \n",
            "                                                                                                  \n",
            " dense (Dense)                  (None, 256)          196864      ['batch_normalization[0][0]']    \n",
            "                                                                                                  \n",
            " dropout_1 (Dropout)            (None, 256)          0           ['dense[0][0]']                  \n",
            "                                                                                                  \n",
            " batch_normalization_1 (BatchNo  (None, 256)         1024        ['dropout_1[0][0]']              \n",
            " rmalization)                                                                                     \n",
            "                                                                                                  \n",
            " output (Dense)                 (None, 5)            1285        ['batch_normalization_1[0][0]']  \n",
            "                                                                                                  \n",
            "==================================================================================================\n",
            "Total params: 109,684,486\n",
            "Trainable params: 109,682,437\n",
            "Non-trainable params: 2,049\n",
            "__________________________________________________________________________________________________\n"
          ]
        }
      ],
      "source": [
        "model.summary()"
      ]
    },
    {
      "cell_type": "code",
      "execution_count": 18,
      "metadata": {
        "id": "ZKpu6EUz77Tl"
      },
      "outputs": [],
      "source": [
        "def scheduler(epoch,lr):\n",
        "    return lr*tf.math.exp(-0.5)\n",
        "\n",
        "def checkpoint_best():\n",
        "  path = 'checkpoint_best/checkpoint'\n",
        "  checkp = ModelCheckpoint(\n",
        "      filepath=path,\n",
        "      save_weights_only=True,\n",
        "      save_freq='epoch',\n",
        "      monitor='val_categorical_accuracy',\n",
        "      save_best_only=True,\n",
        "      verbose=1\n",
        "  )\n",
        "  return checkp\n",
        "call = [\n",
        "        tf.keras.callbacks.LearningRateScheduler(scheduler),\n",
        "        tf.keras.callbacks.EarlyStopping(monitor=\"val_categorical_accuracy\",patience=1),\n",
        "        checkpoint_best()\n",
        "        ]\n",
        "\n",
        "opt = tf.keras.optimizers.Adam(2e-5)\n",
        "Metrics = [\n",
        "           tf.keras.metrics.Precision(),\n",
        "           tf.keras.metrics.Recall(),\n",
        "           tf.keras.metrics.CategoricalAccuracy()\n",
        "]\n",
        "model.compile(\n",
        "    optimizer=opt,\n",
        "    loss='categorical_crossentropy',\n",
        "    metrics=Metrics\n",
        ")"
      ]
    },
    {
      "cell_type": "code",
      "execution_count": 19,
      "metadata": {
        "colab": {
          "base_uri": "https://localhost:8080/"
        },
        "id": "I_3vERUm7s-b",
        "outputId": "f2a9e6a0-01b1-4076-c9c2-3499d5f4f87d"
      },
      "outputs": [
        {
          "output_type": "stream",
          "name": "stdout",
          "text": [
            "Epoch 1/5\n",
            "2058/2058 [==============================] - ETA: 0s - loss: 6.4164 - precision: 0.5108 - recall: 0.3832 - categorical_accuracy: 0.4578\n",
            "Epoch 1: val_categorical_accuracy improved from -inf to 0.72072, saving model to checkpoint_best/checkpoint\n",
            "2058/2058 [==============================] - 700s 329ms/step - loss: 6.4164 - precision: 0.5108 - recall: 0.3832 - categorical_accuracy: 0.4578 - val_loss: 5.4967 - val_precision: 0.7340 - val_recall: 0.6991 - val_categorical_accuracy: 0.7207 - lr: 1.2131e-05\n",
            "Epoch 2/5\n",
            "2058/2058 [==============================] - ETA: 0s - loss: 5.4301 - precision: 0.7274 - recall: 0.6616 - categorical_accuracy: 0.7024\n",
            "Epoch 2: val_categorical_accuracy improved from 0.72072 to 0.79203, saving model to checkpoint_best/checkpoint\n",
            "2058/2058 [==============================] - 675s 328ms/step - loss: 5.4301 - precision: 0.7274 - recall: 0.6616 - categorical_accuracy: 0.7024 - val_loss: 5.0081 - val_precision: 0.7986 - val_recall: 0.7827 - val_categorical_accuracy: 0.7920 - lr: 7.3576e-06\n",
            "Epoch 3/5\n",
            "2058/2058 [==============================] - ETA: 0s - loss: 4.9716 - precision: 0.7917 - recall: 0.7439 - categorical_accuracy: 0.7714\n",
            "Epoch 3: val_categorical_accuracy improved from 0.79203 to 0.80576, saving model to checkpoint_best/checkpoint\n",
            "2058/2058 [==============================] - 674s 327ms/step - loss: 4.9716 - precision: 0.7917 - recall: 0.7439 - categorical_accuracy: 0.7714 - val_loss: 4.7503 - val_precision: 0.8105 - val_recall: 0.7996 - val_categorical_accuracy: 0.8058 - lr: 4.4626e-06\n",
            "Epoch 4/5\n",
            "2058/2058 [==============================] - ETA: 0s - loss: 4.6858 - precision: 0.8254 - recall: 0.7834 - categorical_accuracy: 0.8061\n",
            "Epoch 4: val_categorical_accuracy improved from 0.80576 to 0.81657, saving model to checkpoint_best/checkpoint\n",
            "2058/2058 [==============================] - 673s 327ms/step - loss: 4.6858 - precision: 0.8254 - recall: 0.7834 - categorical_accuracy: 0.8061 - val_loss: 4.5916 - val_precision: 0.8216 - val_recall: 0.8099 - val_categorical_accuracy: 0.8166 - lr: 2.7067e-06\n",
            "Epoch 5/5\n",
            "2058/2058 [==============================] - ETA: 0s - loss: 4.4979 - precision: 0.8481 - recall: 0.8135 - categorical_accuracy: 0.8319\n",
            "Epoch 5: val_categorical_accuracy improved from 0.81657 to 0.82046, saving model to checkpoint_best/checkpoint\n",
            "2058/2058 [==============================] - 673s 327ms/step - loss: 4.4979 - precision: 0.8481 - recall: 0.8135 - categorical_accuracy: 0.8319 - val_loss: 4.5046 - val_precision: 0.8275 - val_recall: 0.8134 - val_categorical_accuracy: 0.8205 - lr: 1.6417e-06\n"
          ]
        }
      ],
      "source": [
        "history = model.fit(X,y,epochs=5, validation_split=0.2,batch_size=16,callbacks=call)"
      ]
    },
    {
      "cell_type": "code",
      "execution_count": 20,
      "metadata": {
        "colab": {
          "base_uri": "https://localhost:8080/",
          "height": 283
        },
        "id": "_wDWcUD874Cs",
        "outputId": "ef785ac4-7be6-4823-aa7e-fd14959c9183"
      },
      "outputs": [
        {
          "output_type": "display_data",
          "data": {
            "text/plain": [
              "<Figure size 432x288 with 1 Axes>"
            ],
            "image/png": "[encoded data removed]"
          },
          "metadata": {
            "needs_background": "light"
          }
        }
      ],
      "source": [
        "'''\n",
        "#plotting the loss for training and validation set\n",
        "plt.plot(history.history['loss'])\n",
        "plt.plot(history.history['val_loss'])\n",
        "plt.title('loss vs epochs')\n",
        "plt.xlabel('epoch')\n",
        "plt.ylabel('loss')\n",
        "plt.legend(['Training','val'], loc='upper right')\n",
        "plt.show()\n",
        "'''\n",
        "#plotting the accuracy for both, training and validation set. \n",
        "plt.plot(history.history['categorical_accuracy'])\n",
        "plt.plot(history.history['val_categorical_accuracy'])\n",
        "plt.xlabel('epoch')\n",
        "plt.ylabel('categorical_accuracy')\n",
        "plt.legend(['training_acc','val'])\n",
        "plt.show()"
      ]
    },
    {
      "cell_type": "markdown",
      "source": [
        "## Test-Data"
      ],
      "metadata": {
        "id": "SD9mxaOPXmiE"
      }
    },
    {
      "cell_type": "code",
      "source": [
        "df_test = pd.read_csv('Corona_NLP_test.csv', encoding = \"ISO-8859-1\")"
      ],
      "metadata": {
        "id": "dIoDeEZwXoT7"
      },
      "execution_count": 21,
      "outputs": []
    },
    {
      "cell_type": "code",
      "source": [
        "df_test['text'] = df_test['OriginalTweet'].apply(clean_text).apply(lambda x : x.lower())"
      ],
      "metadata": {
        "id": "d-inC3fBXwjr"
      },
      "execution_count": 22,
      "outputs": []
    },
    {
      "cell_type": "code",
      "source": [
        "df_test = pd.get_dummies(df_test,columns=['Sentiment']) \n",
        "y_true = df_test[['Sentiment_Extremely Negative', 'Sentiment_Extremely Positive',\n",
        "       'Sentiment_Negative', 'Sentiment_Neutral', 'Sentiment_Positive']]"
      ],
      "metadata": {
        "id": "V_893AIlYoj1"
      },
      "execution_count": 23,
      "outputs": []
    },
    {
      "cell_type": "code",
      "source": [
        "df_test.head()"
      ],
      "metadata": {
        "colab": {
          "base_uri": "https://localhost:8080/",
          "height": 354
        },
        "id": "pRLiPOl-XxYD",
        "outputId": "56557e76-66a8-4cc2-ca3f-2b11149cc074"
      },
      "execution_count": 24,
      "outputs": [
        {
          "output_type": "execute_result",
          "data": {
            "text/plain": [
              "   UserName  ScreenName             Location     TweetAt  \\\n",
              "0         1       44953                  NYC  02-03-2020   \n",
              "1         2       44954          Seattle, WA  02-03-2020   \n",
              "2         3       44955                  NaN  02-03-2020   \n",
              "3         4       44956          Chicagoland  02-03-2020   \n",
              "4         5       44957  Melbourne, Victoria  03-03-2020   \n",
              "\n",
              "                                       OriginalTweet  \\\n",
              "0  TRENDING: New Yorkers encounter empty supermar...   \n",
              "1  When I couldn't find hand sanitizer at Fred Me...   \n",
              "2  Find out how you can protect yourself and love...   \n",
              "3  #Panic buying hits #NewYork City as anxious sh...   \n",
              "4  #toiletpaper #dunnypaper #coronavirus #coronav...   \n",
              "\n",
              "                                                text  \\\n",
              "0  trending new yorkers encounter empty supermark...   \n",
              "1  when i couldnt find hand sanitizer at fred mey...   \n",
              "2  find out how you can protect yourself and love...   \n",
              "3   buying hits  city as anxious shoppers stock u...   \n",
              "4                 one week everyone buying baby m...   \n",
              "\n",
              "   Sentiment_Extremely Negative  Sentiment_Extremely Positive  \\\n",
              "0                             1                             0   \n",
              "1                             0                             0   \n",
              "2                             0                             1   \n",
              "3                             0                             0   \n",
              "4                             0                             0   \n",
              "\n",
              "   Sentiment_Negative  Sentiment_Neutral  Sentiment_Positive  \n",
              "0                   0                  0                   0  \n",
              "1                   0                  0                   1  \n",
              "2                   0                  0                   0  \n",
              "3                   1                  0                   0  \n",
              "4                   0                  1                   0  "
            ],
            "text/html": [
              "\n",
              "  <div id=\"df-e4d80067-e649-4266-aeb2-4370a73b08e6\">\n",
              "    <div class=\"colab-df-container\">\n",
              "      <div>\n",
              "<style scoped>\n",
              "    .dataframe tbody tr th:only-of-type {\n",
              "        vertical-align: middle;\n",
              "    }\n",
              "\n",
              "    .dataframe tbody tr th {\n",
              "        vertical-align: top;\n",
              "    }\n",
              "\n",
              "    .dataframe thead th {\n",
              "        text-align: right;\n",
              "    }\n",
              "</style>\n",
              "<table border=\"1\" class=\"dataframe\">\n",
              "  <thead>\n",
              "    <tr style=\"text-align: right;\">\n",
              "      <th></th>\n",
              "      <th>UserName</th>\n",
              "      <th>ScreenName</th>\n",
              "      <th>Location</th>\n",
              "      <th>TweetAt</th>\n",
              "      <th>OriginalTweet</th>\n",
              "      <th>text</th>\n",
              "      <th>Sentiment_Extremely Negative</th>\n",
              "      <th>Sentiment_Extremely Positive</th>\n",
              "      <th>Sentiment_Negative</th>\n",
              "      <th>Sentiment_Neutral</th>\n",
              "      <th>Sentiment_Positive</th>\n",
              "    </tr>\n",
              "  </thead>\n",
              "  <tbody>\n",
              "    <tr>\n",
              "      <th>0</th>\n",
              "      <td>1</td>\n",
              "      <td>44953</td>\n",
              "      <td>NYC</td>\n",
              "      <td>02-03-2020</td>\n",
              "      <td>TRENDING: New Yorkers encounter empty supermar...</td>\n",
              "      <td>trending new yorkers encounter empty supermark...</td>\n",
              "      <td>1</td>\n",
              "      <td>0</td>\n",
              "      <td>0</td>\n",
              "      <td>0</td>\n",
              "      <td>0</td>\n",
              "    </tr>\n",
              "    <tr>\n",
              "      <th>1</th>\n",
              "      <td>2</td>\n",
              "      <td>44954</td>\n",
              "      <td>Seattle, WA</td>\n",
              "      <td>02-03-2020</td>\n",
              "      <td>When I couldn't find hand sanitizer at Fred Me...</td>\n",
              "      <td>when i couldnt find hand sanitizer at fred mey...</td>\n",
              "      <td>0</td>\n",
              "      <td>0</td>\n",
              "      <td>0</td>\n",
              "      <td>0</td>\n",
              "      <td>1</td>\n",
              "    </tr>\n",
              "    <tr>\n",
              "      <th>2</th>\n",
              "      <td>3</td>\n",
              "      <td>44955</td>\n",
              "      <td>NaN</td>\n",
              "      <td>02-03-2020</td>\n",
              "      <td>Find out how you can protect yourself and love...</td>\n",
              "      <td>find out how you can protect yourself and love...</td>\n",
              "      <td>0</td>\n",
              "      <td>1</td>\n",
              "      <td>0</td>\n",
              "      <td>0</td>\n",
              "      <td>0</td>\n",
              "    </tr>\n",
              "    <tr>\n",
              "      <th>3</th>\n",
              "      <td>4</td>\n",
              "      <td>44956</td>\n",
              "      <td>Chicagoland</td>\n",
              "      <td>02-03-2020</td>\n",
              "      <td>#Panic buying hits #NewYork City as anxious sh...</td>\n",
              "      <td>buying hits  city as anxious shoppers stock u...</td>\n",
              "      <td>0</td>\n",
              "      <td>0</td>\n",
              "      <td>1</td>\n",
              "      <td>0</td>\n",
              "      <td>0</td>\n",
              "    </tr>\n",
              "    <tr>\n",
              "      <th>4</th>\n",
              "      <td>5</td>\n",
              "      <td>44957</td>\n",
              "      <td>Melbourne, Victoria</td>\n",
              "      <td>03-03-2020</td>\n",
              "      <td>#toiletpaper #dunnypaper #coronavirus #coronav...</td>\n",
              "      <td>one week everyone buying baby m...</td>\n",
              "      <td>0</td>\n",
              "      <td>0</td>\n",
              "      <td>0</td>\n",
              "      <td>1</td>\n",
              "      <td>0</td>\n",
              "    </tr>\n",
              "  </tbody>\n",
              "</table>\n",
              "</div>\n",
              "      <button class=\"colab-df-convert\" onclick=\"convertToInteractive('df-e4d80067-e649-4266-aeb2-4370a73b08e6')\"\n",
              "              title=\"Convert this dataframe to an interactive table.\"\n",
              "              style=\"display:none;\">\n",
              "        \n",
              "  <svg xmlns=\"http://www.w3.org/2000/svg\" height=\"24px\"viewBox=\"0 0 24 24\"\n",
              "       width=\"24px\">\n",
              "    <path d=\"M0 0h24v24H0V0z\" fill=\"none\"/>\n",
              "    <path d=\"M18.56 5.44l.94 2.06.94-2.06 2.06-.94-2.06-.94-.94-2.06-.94 2.06-2.06.94zm-11 1L8.5 8.5l.94-2.06 2.06-.94-2.06-.94L8.5 2.5l-.94 2.06-2.06.94zm10 10l.94 2.06.94-2.06 2.06-.94-2.06-.94-.94-2.06-.94 2.06-2.06.94z\"/><path d=\"M17.41 7.96l-1.37-1.37c-.4-.4-.92-.59-1.43-.59-.52 0-1.04.2-1.43.59L10.3 9.45l-7.72 7.72c-.78.78-.78 2.05 0 2.83L4 21.41c.39.39.9.59 1.41.59.51 0 1.02-.2 1.41-.59l7.78-7.78 2.81-2.81c.8-.78.8-2.07 0-2.86zM5.41 20L4 18.59l7.72-7.72 1.47 1.35L5.41 20z\"/>\n",
              "  </svg>\n",
              "      </button>\n",
              "      \n",
              "  <style>\n",
              "    .colab-df-container {\n",
              "      display:flex;\n",
              "      flex-wrap:wrap;\n",
              "      gap: 12px;\n",
              "    }\n",
              "\n",
              "    .colab-df-convert {\n",
              "      background-color: #E8F0FE;\n",
              "      border: none;\n",
              "      border-radius: 50%;\n",
              "      cursor: pointer;\n",
              "      display: none;\n",
              "      fill: #1967D2;\n",
              "      height: 32px;\n",
              "      padding: 0 0 0 0;\n",
              "      width: 32px;\n",
              "    }\n",
              "\n",
              "    .colab-df-convert:hover {\n",
              "      background-color: #E2EBFA;\n",
              "      box-shadow: 0px 1px 2px rgba(60, 64, 67, 0.3), 0px 1px 3px 1px rgba(60, 64, 67, 0.15);\n",
              "      fill: #174EA6;\n",
              "    }\n",
              "\n",
              "    [theme=dark] .colab-df-convert {\n",
              "      background-color: #3B4455;\n",
              "      fill: #D2E3FC;\n",
              "    }\n",
              "\n",
              "    [theme=dark] .colab-df-convert:hover {\n",
              "      background-color: #434B5C;\n",
              "      box-shadow: 0px 1px 3px 1px rgba(0, 0, 0, 0.15);\n",
              "      filter: drop-shadow(0px 1px 2px rgba(0, 0, 0, 0.3));\n",
              "      fill: #FFFFFF;\n",
              "    }\n",
              "  </style>\n",
              "\n",
              "      <script>\n",
              "        const buttonEl =\n",
              "          document.querySelector('#df-e4d80067-e649-4266-aeb2-4370a73b08e6 button.colab-df-convert');\n",
              "        buttonEl.style.display =\n",
              "          google.colab.kernel.accessAllowed ? 'block' : 'none';\n",
              "\n",
              "        async function convertToInteractive(key) {\n",
              "          const element = document.querySelector('#df-e4d80067-e649-4266-aeb2-4370a73b08e6');\n",
              "          const dataTable =\n",
              "            await google.colab.kernel.invokeFunction('convertToInteractive',\n",
              "                                                     [key], {});\n",
              "          if (!dataTable) return;\n",
              "\n",
              "          const docLinkHtml = 'Like what you see? Visit the ' +\n",
              "            '<a target=\"_blank\" href=https://colab.research.google.com/notebooks/data_table.ipynb>data table notebook</a>'\n",
              "            + ' to learn more about interactive tables.';\n",
              "          element.innerHTML = '';\n",
              "          dataTable['output_type'] = 'display_data';\n",
              "          await google.colab.output.renderOutput(dataTable, element);\n",
              "          const docLink = document.createElement('div');\n",
              "          docLink.innerHTML = docLinkHtml;\n",
              "          element.appendChild(docLink);\n",
              "        }\n",
              "      </script>\n",
              "    </div>\n",
              "  </div>\n",
              "  "
            ]
          },
          "metadata": {},
          "execution_count": 24
        }
      ]
    },
    {
      "cell_type": "code",
      "source": [
        "y_pred = model.predict(df_test['text'])"
      ],
      "metadata": {
        "id": "2bUhdAjpYC3U"
      },
      "execution_count": 25,
      "outputs": []
    },
    {
      "cell_type": "code",
      "source": [
        "from sklearn.metrics import confusion_matrix, ConfusionMatrixDisplay"
      ],
      "metadata": {
        "id": "uYFeZRxKYk1L"
      },
      "execution_count": 26,
      "outputs": []
    },
    {
      "cell_type": "code",
      "source": [
        "rta = np.argmax(y_pred,axis=-1)"
      ],
      "metadata": {
        "id": "Vi4_tGuDZV9b"
      },
      "execution_count": 27,
      "outputs": []
    },
    {
      "cell_type": "code",
      "source": [
        "y_true_copy = np.argmax(y_true.to_numpy(),axis=-1)"
      ],
      "metadata": {
        "id": "j82l6iCPeOaL"
      },
      "execution_count": 28,
      "outputs": []
    },
    {
      "cell_type": "code",
      "source": [
        "cm = confusion_matrix(y_true_copy, rta)\n",
        "disp = ConfusionMatrixDisplay(confusion_matrix=cm)\n",
        "disp.plot()\n",
        "plt.show()"
      ],
      "metadata": {
        "colab": {
          "base_uri": "https://localhost:8080/",
          "height": 279
        },
        "id": "IZH0MY5EZF6M",
        "outputId": "09ba1ca1-4bff-43a0-cae0-48d0c44e59bc"
      },
      "execution_count": 29,
      "outputs": [
        {
          "output_type": "display_data",
          "data": {
            "text/plain": [
              "<Figure size 432x288 with 2 Axes>"
            ],
            "image/png": "[encoded data removed]"
          },
          "metadata": {
            "needs_background": "light"
          }
        }
      ]
    },
    {
      "cell_type": "code",
      "source": [
        "from sklearn.metrics import f1_score\n",
        "f1_score(y_true_copy, rta, average='weighted')"
      ],
      "metadata": {
        "colab": {
          "base_uri": "https://localhost:8080/"
        },
        "id": "N7Q4-HL-du30",
        "outputId": "f5ba7576-6445-4234-c4dd-5e758dc4ce78"
      },
      "execution_count": 30,
      "outputs": [
        {
          "output_type": "execute_result",
          "data": {
            "text/plain": [
              "0.7678838843933101"
            ]
          },
          "metadata": {},
          "execution_count": 30
        }
      ]
    },
    {
      "cell_type": "code",
      "source": [
        ""
      ],
      "metadata": {
        "id": "yLCOP1hyZrQS"
      },
      "execution_count": null,
      "outputs": []
    }
  ],
  "metadata": {
    "accelerator": "GPU",
    "colab": {
      "collapsed_sections": [],
      "name": "BERT_fine_tuning.ipynb",
      "provenance": []
    },
    "kernelspec": {
      "display_name": "Python 3",
      "name": "python3"
    },
    "language_info": {
      "name": "python"
    }
  },
  "nbformat": 4,
  "nbformat_minor": 0
}